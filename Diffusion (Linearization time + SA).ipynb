{
 "cells": [
  {
   "cell_type": "markdown",
   "id": "e462c73a",
   "metadata": {},
   "source": [
    "# Add a 'time to linearize' output to diffusion program\n",
    "\n",
    "# Perform a Morris SA on function"
   ]
  },
  {
   "cell_type": "code",
   "execution_count": 1,
   "id": "c15171d0",
   "metadata": {},
   "outputs": [],
   "source": [
    "%matplotlib inline\n",
    "\n",
    "from gekko import GEKKO\n",
    "import numpy as np\n",
    "import matplotlib.pyplot as plt\n",
    "from matplotlib import animation, rc\n",
    "from IPython.display import HTML, Image"
   ]
  },
  {
   "cell_type": "code",
   "execution_count": 2,
   "id": "49fe76bf",
   "metadata": {},
   "outputs": [],
   "source": [
    "from scipy.stats import linregress"
   ]
  },
  {
   "cell_type": "markdown",
   "id": "f394ffd9",
   "metadata": {},
   "source": [
    "## REAL WORLD PARAMETERS:\n",
    "\n",
    "### Current device channel dimensions:\n",
    "\n",
    "Length: 11mm\n",
    "\n",
    "Height: 1mm\n",
    "\n",
    "Width: 1mm\n",
    "\n",
    "### Initial Chemoattractant concentration:\n",
    "\n",
    "C0 = 100 nanomolar\n",
    "\n",
    "### Buffer Solution: Basically water\n",
    "\n",
    "### Chemoattractant protein:\n",
    "\n",
    "TGF-Beta\n",
    "\n",
    "Approximate diffusion constant from particle size \n",
    "\n",
    "#### \n",
    "\n",
    "r = (1.9)*(1/1000000000) #m \n",
    "Radius of spherical particle --> https://www.ncbi.nlm.nih.gov/pmc/articles/PMC3055910/ AND https://www.abcam.com/recombinant-human-tgf-beta-1-protein-active-ab50036.html#:~:text=TGF%2Dbeta1%20is%20a%2025.0,peptide%20and%20latency%2Dassociated%20peptide.\n",
    "\n",
    "D = (k*T)(6pi*mu*r)\n",
    "\n",
    "Where k is boltzmann constant (1.380649 * 10^-23 J/K), T is temperature (K), mu is dynamic visc of water (.0006922 Pa * s),\n",
    "and r is particle radius\n"
   ]
  },
  {
   "cell_type": "markdown",
   "id": "123e77c0",
   "metadata": {},
   "source": [
    "## Simulation data for existing product IBIDI Mu-Slide Chemotaxis Chamber\n",
    "\n",
    "### IBIDI device channel dimensions:\n",
    "\n",
    "Length: 1mm\n",
    "\n",
    "Width: 2mm\n",
    "\n",
    "Height: .07mm\n",
    "\n",
    "### IBIDI Device does not have any nanofibers, disregard adsoprtion\n",
    "\n",
    "Ibidi device time to linearize = 26 hours\n",
    "\n",
    "All other parameters (chemoattractant, buffer, C0) should be same"
   ]
  },
  {
   "cell_type": "code",
   "execution_count": 3,
   "id": "e16d532a",
   "metadata": {},
   "outputs": [],
   "source": [
    "def linearization(linearity = .99, alpha = 5, beta = 1, n = 3):\n",
    "    ## Inputs\n",
    "    '''\n",
    "    # Dimensionless Parameters\n",
    "    alpha = 5.  # k*L^2/D\n",
    "    beta = 1.   # f*(S0/C0)^(1/n)\n",
    "    n = 3.      # n\n",
    "    '''\n",
    "    # Boundary conditions\n",
    "    theta_BC = [1., 0.]\n",
    "\n",
    "    # Solver parameters\n",
    "    seg = 40   # Number of length segments\n",
    "    dt = 0.05   # Time step size\n",
    "    tf = 1.5  # Final time\n",
    "    \n",
    "    L_seg = 1 / seg                     # Length of segment\n",
    "    dist = np.linspace(0., 1., seg + 2) # Distance array\n",
    "    nt = int(tf / dt) + 1               # Length of time array\n",
    "    \n",
    "    # Create new GEKKO object\n",
    "    m = GEKKO()\n",
    "\n",
    "    # Create time array\n",
    "    m.time = np.linspace(0., tf, nt)\n",
    "\n",
    "    # Left BC\n",
    "    theta0 = m.MV(lb = 0., ub = 1.)\n",
    "    theta0.value = np.ones(nt) * theta_BC[0]\n",
    "\n",
    "    # Right BC\n",
    "    theta1 = m.MV(lb = 0., ub = 1.)\n",
    "    theta1.value = np.ones(nt) * theta_BC[1]\n",
    "\n",
    "    # Initialize concentration variables\n",
    "    theta = [m.Var(0., lb = 0., ub = 1.) for i in range(seg)]\n",
    "    theta_BL = [m.Var(0., lb = 0., ub = 1.) for i in range(seg)]\n",
    "    # theta_ads = [m.Var(0, lb = 0, ub = 1) for i in range(seg)]\n",
    "    \n",
    "    ## Equations to be solved\n",
    "\n",
    "    # First segment\n",
    "    m.Equation(theta[0].dt() == -theta_BL[0].dt() + (1 * theta0 + -2 * theta[0] + 1 * theta[1]) / (L_seg * L_seg))\n",
    "    m.Equation(theta_BL[0].dt() == alpha * (theta[0] - theta_BL[0]))\n",
    "    # m.Equation(theta_ads[0] == beta * theta_BL[0] ** (1 / n))\n",
    "\n",
    "    # Middle segments\n",
    "    m.Equations([theta[i].dt() == -theta_BL[i].dt() + (1 * theta[i - 1] + -2 * theta[i] + 1 * theta[i + 1]) / (L_seg * L_seg) for i in range(1, seg - 1)])\n",
    "    m.Equations([theta_BL[i].dt() == alpha * (theta[i] - theta_BL[i]) for i in range(1, seg - 1)])\n",
    "    # m.Equations([theta_ads[i] == beta * theta_BL[i] ** (1 / n) for i in range(1, seg - 1)])\n",
    "\n",
    "    # Last segment\n",
    "    m.Equation(theta[-1].dt() == -theta_BL[0].dt() + (1 * theta[-2] + -2 * theta[-1] + 1 * theta1) / (L_seg * L_seg))\n",
    "    m.Equation(theta_BL[-1].dt() == alpha * (theta[-1] - theta_BL[-1]))\n",
    "    # m.Equation(theta_ads[-1] == beta * theta_BL[-1] ** (1 / n))\n",
    "    \n",
    "    m.options.IMODE = 4\n",
    "    m.solve()\n",
    "    \n",
    "    # Bulk\n",
    "    d = np.empty((seg + 2, len(m.time)))\n",
    "    d[0] = np.array(theta0.value)\n",
    "    for i in range(seg):\n",
    "        d[i + 1] = np.array(theta[i].value)\n",
    "    d[-1] = np.array(theta1.value)\n",
    "    d = d.T\n",
    "    \n",
    "    t_Bulk = time_to_linearize(d, dist, linearity)*dt\n",
    "    \n",
    "    # Boundary later\n",
    "    d_BL = np.empty((seg + 1, len(m.time)))\n",
    "    for i in range(seg):\n",
    "        d_BL[i] = np.array(theta_BL[i].value)\n",
    "    d_BL[-1] = np.array(theta1.value)\n",
    "    d_BL = d_BL.T\n",
    "    \n",
    "    t_BL = time_to_linearize(d_BL, dist, linearity)*dt\n",
    "\n",
    "    # Adsorbed\n",
    "    d_ads = beta * d_BL ** (1 / n)\n",
    "\n",
    "    t_ads = time_to_linearize(d_ads, dist, linearity)*dt\n",
    "    \n",
    "    return [t_Bulk, t_BL, t_ads]\n",
    "    \n",
    "    \n",
    "    \n",
    "    \n",
    "    \n",
    "    "
   ]
  },
  {
   "cell_type": "code",
   "execution_count": 4,
   "id": "52d48aed",
   "metadata": {},
   "outputs": [],
   "source": [
    "def time_to_linearize(C_profile, dist_array, desired_linearity):\n",
    "    '''\n",
    "    C_profile is list of concentration profile arrays at each time\n",
    "    \n",
    "    C_profile = [C_timestamp(t=0), C_timestamp(t=1),..]\n",
    "    C_timestamp = [C(x=0),C(x=1),....]\n",
    "    \n",
    "    dist_array = list of distances. Single 1-D array\n",
    "    '''\n",
    "    \n",
    "    for t_index, C_timestamp in enumerate(C_profile):\n",
    "        regress_results = linregress(C_timestamp, dist_array)\n",
    "        linearity = 1 - regress_results.stderr\n",
    "        if linearity >= desired_linearity:\n",
    "            return t_index\n",
    "        else:\n",
    "            continue\n",
    "    \n",
    "    return False\n",
    "    '''\n",
    "    Returns time as an integer relative to overall time function/segmentation.\n",
    "    \n",
    "    If C_profile is created with 60 time intervals, and this function returns '34':\n",
    "    That means linearization was achieved at time 34/60 * overall time. \n",
    "    \n",
    "    returns False if desired linearity never achieved\n",
    "    '''\n"
   ]
  },
  {
   "cell_type": "code",
   "execution_count": 8,
   "id": "3886b8db",
   "metadata": {},
   "outputs": [],
   "source": [
    "# linearization()"
   ]
  },
  {
   "cell_type": "markdown",
   "id": "d1575701",
   "metadata": {},
   "source": [
    "# Morris Sensitivity Analysis"
   ]
  },
  {
   "cell_type": "code",
   "execution_count": 7,
   "id": "1f22201d",
   "metadata": {},
   "outputs": [],
   "source": [
    "import SALib"
   ]
  },
  {
   "cell_type": "code",
   "execution_count": 9,
   "id": "1aa7c8fa",
   "metadata": {},
   "outputs": [],
   "source": [
    "from SALib.sample import morris as ms\n",
    "from SALib.analyze import morris as ma\n",
    "from SALib.plotting import morris as mp"
   ]
  },
  {
   "cell_type": "code",
   "execution_count": 13,
   "id": "9119f79e",
   "metadata": {},
   "outputs": [],
   "source": [
    "morris_problem = {\n",
    "    'num_vars': 3,\n",
    "    'names': ['alpha','beta','n'],\n",
    "    'bounds': [[15, 90],\n",
    "               [8000,20000],\n",
    "               [.1, 20]], \n",
    "    'groups': None\n",
    "}"
   ]
  },
  {
   "cell_type": "code",
   "execution_count": 12,
   "id": "a0ae1906",
   "metadata": {},
   "outputs": [],
   "source": [
    "num_levels = 4\n",
    "trajectories = 1000\n",
    "sample = ms.sample(morris_problem, trajectories, num_levels = num_levels)\n",
    "sample.shape"
   ]
  },
  {
   "cell_type": "code",
   "execution_count": null,
   "id": "885a7dad",
   "metadata": {},
   "outputs": [],
   "source": [
    "Si = ma.analyze(morris_problem,\n",
    "               sample,\n",
    "               output,\n",
    "               print_to_console=False,\n",
    "               num_levels=num_levels)\n",
    "print(\"{:20s} {:>7s} {:>7s} {:>7s}\".format(\"Name\", \"mu\", \"mu_star\", \"sigma\"))\n",
    "for name, s1, st, mean in zip(morris_problem['names'], Si['mu'], Si['mu_star'], Si['sigma']):\n",
    "    print(\"{:20s} {:=7.2f} {:=7.2f} {:=7.2f}\".format(name, s1, st, mean))\n",
    "    \n",
    "fig, (ax1, ax2) = plt.subplots(1,2)\n",
    "mp.horizontal_bar_plot(ax1, Si) #  param_dict={}\n",
    "mp.covariance_plot(ax2, Si, {})"
   ]
  }
 ],
 "metadata": {
  "kernelspec": {
   "display_name": "Python 3 (ipykernel)",
   "language": "python",
   "name": "python3"
  },
  "language_info": {
   "codemirror_mode": {
    "name": "ipython",
    "version": 3
   },
   "file_extension": ".py",
   "mimetype": "text/x-python",
   "name": "python",
   "nbconvert_exporter": "python",
   "pygments_lexer": "ipython3",
   "version": "3.9.12"
  }
 },
 "nbformat": 4,
 "nbformat_minor": 5
}
