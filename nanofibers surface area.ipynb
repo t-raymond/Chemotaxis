{
 "cells": [
  {
   "cell_type": "code",
   "execution_count": 18,
   "id": "65669889",
   "metadata": {},
   "outputs": [],
   "source": [
    "import pandas as pd\n",
    "import numpy as np\n",
    "import math\n",
    "from matplotlib import pyplot as plt"
   ]
  },
  {
   "cell_type": "markdown",
   "id": "6002ee1c",
   "metadata": {},
   "source": [
    "## Determine range of plausible nanofiber surface areas "
   ]
  },
  {
   "cell_type": "code",
   "execution_count": 20,
   "id": "328a9187",
   "metadata": {},
   "outputs": [],
   "source": [
    "def nanofiber_surfacearea(radius, concentration):\n",
    "    '''\n",
    "    radius = [L]\n",
    "    concentration = [nanofibers/L] L in axis perpendicular to nanofiber direction\n",
    "    \n",
    "    SA of cylinder sides = 2*pi*r*h\n",
    "    '''\n",
    "    indiv_sa = 1 * math.pi * radius #[L]\n",
    "\n",
    "    unit_sa = indiv_sa * concentration #[L/L]\n",
    "    \n",
    "    return unit_sa\n",
    "\n",
    "    "
   ]
  },
  {
   "cell_type": "code",
   "execution_count": 63,
   "id": "980243c2",
   "metadata": {},
   "outputs": [],
   "source": [
    "# fiber radii range: .15 - 1 um\n",
    "steps = 25\n",
    "fiber_radii = np.linspace(.15, 1, steps) # in microns\n",
    "\n",
    "# fiber_concentrations = 1/(fiber_radii*2) # in fibers/micron perpendicular"
   ]
  },
  {
   "cell_type": "code",
   "execution_count": 66,
   "id": "9d26b0d0",
   "metadata": {},
   "outputs": [],
   "source": [
    "# Fiber concentration cannot be more than 1/(fiber diameter) per unit\n",
    "\n",
    "concentration_range = []\n",
    "\n",
    "for i in fiber_radii:\n",
    "    fiber_concentration = np.linspace(0, 1/(2*i), 10)\n",
    "    for j in fiber_concentration[1:]:\n",
    "        concentration_range.append(nanofiber_surfacearea(i, j))"
   ]
  },
  {
   "cell_type": "code",
   "execution_count": 70,
   "id": "4b21dffb",
   "metadata": {
    "scrolled": true
   },
   "outputs": [
    {
     "data": {
      "text/plain": [
       "(0.17453292519943292, 1.5707963267948968)"
      ]
     },
     "execution_count": 70,
     "metadata": {},
     "output_type": "execute_result"
    }
   ],
   "source": [
    "sa_max = max(concentration_range)\n",
    "sa_min = min(concentration_range)\n",
    "sa_min, sa_max"
   ]
  },
  {
   "cell_type": "markdown",
   "id": "a1091095",
   "metadata": {},
   "source": [
    "## Results:\n",
    "\n",
    "### Min Surface Area: .175 \n",
    "\n",
    "### Max Surface Area: 1.571 \n",
    "\n",
    "#### Units in [SA Nanofibers]/[Unit SA]"
   ]
  },
  {
   "cell_type": "code",
   "execution_count": null,
   "id": "058724b9",
   "metadata": {},
   "outputs": [],
   "source": []
  }
 ],
 "metadata": {
  "kernelspec": {
   "display_name": "Python 3 (ipykernel)",
   "language": "python",
   "name": "python3"
  },
  "language_info": {
   "codemirror_mode": {
    "name": "ipython",
    "version": 3
   },
   "file_extension": ".py",
   "mimetype": "text/x-python",
   "name": "python",
   "nbconvert_exporter": "python",
   "pygments_lexer": "ipython3",
   "version": "3.9.12"
  }
 },
 "nbformat": 4,
 "nbformat_minor": 5
}
