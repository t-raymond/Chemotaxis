{
 "cells": [
  {
   "cell_type": "code",
   "execution_count": 1,
   "metadata": {},
   "outputs": [],
   "source": [
    "%matplotlib inline\n",
    "\n",
    "from gekko import GEKKO\n",
    "import numpy as np\n",
    "import matplotlib.pyplot as plt\n",
    "from matplotlib import animation, rc\n",
    "from IPython.display import HTML, Image\n",
    "from scipy.stats import linregress"
   ]
  },
  {
   "cell_type": "code",
   "execution_count": 2,
   "metadata": {},
   "outputs": [],
   "source": [
    "from Solver import solve_pde"
   ]
  },
  {
   "cell_type": "markdown",
   "metadata": {},
   "source": [
    "## REAL WORLD PARAMETERS:\n",
    "\n",
    "### Current device channel dimensions:\n",
    "\n",
    "Length: 11mm\n",
    "\n",
    "Height: 1mm\n",
    "\n",
    "Width: 1mm\n",
    "\n",
    "### Initial Chemoattractant concentration:\n",
    "\n",
    "C0 = 100 nanomolar\n",
    "\n",
    "### Buffer Solution: Basically water\n",
    "\n",
    "### Chemoattractant protein:\n",
    "\n",
    "TGF-Beta\n",
    "\n",
    "Approximate diffusion constant from particle size \n",
    "\n",
    "#### \n",
    "\n",
    "r = (1.9)*(1/1000000000) #m \n",
    "Radius of spherical particle --> https://www.ncbi.nlm.nih.gov/pmc/articles/PMC3055910/ AND https://www.abcam.com/recombinant-human-tgf-beta-1-protein-active-ab50036.html#:~:text=TGF%2Dbeta1%20is%20a%2025.0,peptide%20and%20latency%2Dassociated%20peptide.\n",
    "\n",
    "D = (k*T)(6pi*mu*r)\n",
    "\n",
    "Where k is boltzmann constant (1.380649 * 10^-23 J/K), T is temperature (K), mu is dynamic visc of water (.0006922 Pa * s),\n",
    "and r is particle radius\n"
   ]
  },
  {
   "cell_type": "markdown",
   "metadata": {},
   "source": [
    "## Simulation data for existing product IBIDI Mu-Slide Chemotaxis Chamber\n",
    "\n",
    "### IBIDI device channel dimensions:\n",
    "\n",
    "Length: 1mm\n",
    "\n",
    "Width: 2mm\n",
    "\n",
    "Height: .07mm\n",
    "\n",
    "### IBIDI Device does not have any nanofibers, disregard adsoprtion\n",
    "\n",
    "Ibidi device time to linearize = 26 hours\n",
    "\n",
    "All other parameters (chemoattractant, buffer, C0) should be same"
   ]
  },
  {
   "cell_type": "code",
   "execution_count": 3,
   "metadata": {},
   "outputs": [],
   "source": [
    "def time_to_linearize(C_profile, dist_array, desired_linearity):\n",
    "    '''\n",
    "    C_profile is list of concentration profile arrays at each time\n",
    "    \n",
    "    C_profile = [C_timestamp(t=0), C_timestamp(t=1),..]\n",
    "    C_timestamp = [C(x=0),C(x=1),....]\n",
    "    \n",
    "    dist_array = list of distances. Single 1-D array\n",
    "    '''\n",
    "    \n",
    "    for times, C_timestamp in enumerate(C_profile):\n",
    "        \n",
    "        try:\n",
    "            regress_results = linregress(C_timestamp, dist_array)\n",
    "            linearity = 1 - regress_results.stderr\n",
    "        except:\n",
    "            linearity = 0\n",
    "        \n",
    "        if linearity >= desired_linearity:\n",
    "            return times\n",
    "        else:\n",
    "            continue\n",
    "    \n",
    "    return False\n",
    "    '''\n",
    "    Returns time as an integer relative to overall time function/segmentation.\n",
    "    \n",
    "    If C_profile is created with 60 time intervals, and this function returns '34':\n",
    "    That means linearization was achieved at time 34/60 * overall time. \n",
    "    \n",
    "    returns False if desired linearity never achieved\n",
    "    '''"
   ]
  },
  {
   "cell_type": "code",
   "execution_count": 4,
   "metadata": {},
   "outputs": [],
   "source": [
    "def linearization(linearity = .99, alpha = 5, beta = 1, n = 3):\n",
    "    ## Inputs\n",
    "    '''\n",
    "    # Dimensionless Parameters\n",
    "    alpha = 5.  # k*L^2/D\n",
    "    beta = 1.   # f*(S0/C0)^(1/n)\n",
    "    n = 3.      # n\n",
    "    '''\n",
    "\n",
    "    # Solver parameters\n",
    "    seg = 101   # Number of length segments\n",
    "    tf = 2.0  # Final time\n",
    "\n",
    "    # Boundary conditions\n",
    "    theta_BC = np.array((1., 0.))\n",
    "\n",
    "    # Initial conditions\n",
    "    theta_IC = np.zeros(2 * seg)\n",
    "    \n",
    "    # Solve PDEs\n",
    "    sol = solve_pde(tf, theta_IC, theta_BC, alpha)\n",
    "\n",
    "    # Unpack solution\n",
    "    t = sol.t\n",
    "    theta = sol.y[:int(len(sol.y) / 2)]\n",
    "    theta_BL = sol.y[int(len(sol.y) / 2):]\n",
    "    \n",
    "    t_Bulk = time_to_linearize(theta.T, np.linspace(0, 1, seg), linearity)\n",
    "    t_BL = time_to_linearize(theta_BL.T, np.linspace(0, 1, seg), linearity)\n",
    "    \n",
    "    return [t_Bulk, t_BL]"
   ]
  },
  {
   "cell_type": "code",
   "execution_count": 5,
   "metadata": {},
   "outputs": [
    {
     "data": {
      "text/plain": [
       "[219, 341]"
      ]
     },
     "execution_count": 5,
     "metadata": {},
     "output_type": "execute_result"
    }
   ],
   "source": [
    "linearization()"
   ]
  },
  {
   "cell_type": "markdown",
   "metadata": {},
   "source": [
    "# Morris Sensitivity Analysis"
   ]
  },
  {
   "cell_type": "code",
   "execution_count": 6,
   "metadata": {},
   "outputs": [],
   "source": [
    "import SALib"
   ]
  },
  {
   "cell_type": "code",
   "execution_count": 7,
   "metadata": {},
   "outputs": [],
   "source": [
    "from SALib.sample import morris as ms\n",
    "from SALib.analyze import morris as ma\n",
    "from SALib.plotting import morris as mp"
   ]
  },
  {
   "cell_type": "code",
   "execution_count": 8,
   "metadata": {},
   "outputs": [],
   "source": [
    "morris_problem = {\n",
    "    'num_vars': 3,\n",
    "    'names': ['alpha','beta','n'],\n",
    "    'bounds': [[15, 90],\n",
    "               [8000,20000],\n",
    "               [.1, 20]], \n",
    "    'groups': None\n",
    "}"
   ]
  },
  {
   "cell_type": "code",
   "execution_count": 9,
   "metadata": {},
   "outputs": [],
   "source": [
    "num_levels = 4\n",
    "trajectories = 1000\n",
    "sample = ms.sample(morris_problem, trajectories, num_levels = num_levels)\n",
    "sample.shape\n",
    "output = sample.T"
   ]
  },
  {
   "cell_type": "code",
   "execution_count": 10,
   "metadata": {},
   "outputs": [
    {
     "ename": "ValueError",
     "evalue": "cannot reshape array of size 12000 into shape (1000,4)",
     "output_type": "error",
     "traceback": [
      "\u001b[1;31m---------------------------------------------------------------------------\u001b[0m",
      "\u001b[1;31mValueError\u001b[0m                                Traceback (most recent call last)",
      "Cell \u001b[1;32mIn [10], line 1\u001b[0m\n\u001b[1;32m----> 1\u001b[0m Si \u001b[39m=\u001b[39m ma\u001b[39m.\u001b[39;49manalyze(morris_problem,\n\u001b[0;32m      2\u001b[0m                sample,\n\u001b[0;32m      3\u001b[0m                output,\n\u001b[0;32m      4\u001b[0m                print_to_console\u001b[39m=\u001b[39;49m\u001b[39mFalse\u001b[39;49;00m,\n\u001b[0;32m      5\u001b[0m                num_levels\u001b[39m=\u001b[39;49mnum_levels)\n\u001b[0;32m      6\u001b[0m \u001b[39mprint\u001b[39m(\u001b[39m\"\u001b[39m\u001b[39m{:20s}\u001b[39;00m\u001b[39m \u001b[39m\u001b[39m{:>7s}\u001b[39;00m\u001b[39m \u001b[39m\u001b[39m{:>7s}\u001b[39;00m\u001b[39m \u001b[39m\u001b[39m{:>7s}\u001b[39;00m\u001b[39m\"\u001b[39m\u001b[39m.\u001b[39mformat(\u001b[39m\"\u001b[39m\u001b[39mName\u001b[39m\u001b[39m\"\u001b[39m, \u001b[39m\"\u001b[39m\u001b[39mmu\u001b[39m\u001b[39m\"\u001b[39m, \u001b[39m\"\u001b[39m\u001b[39mmu_star\u001b[39m\u001b[39m\"\u001b[39m, \u001b[39m\"\u001b[39m\u001b[39msigma\u001b[39m\u001b[39m\"\u001b[39m))\n\u001b[0;32m      7\u001b[0m \u001b[39mfor\u001b[39;00m name, s1, st, mean \u001b[39min\u001b[39;00m \u001b[39mzip\u001b[39m(morris_problem[\u001b[39m'\u001b[39m\u001b[39mnames\u001b[39m\u001b[39m'\u001b[39m], Si[\u001b[39m'\u001b[39m\u001b[39mmu\u001b[39m\u001b[39m'\u001b[39m], Si[\u001b[39m'\u001b[39m\u001b[39mmu_star\u001b[39m\u001b[39m'\u001b[39m], Si[\u001b[39m'\u001b[39m\u001b[39msigma\u001b[39m\u001b[39m'\u001b[39m]):\n",
      "File \u001b[1;32mc:\\Users\\teddy\\AppData\\Local\\Programs\\Python\\Python311\\Lib\\site-packages\\SALib\\analyze\\morris.py:134\u001b[0m, in \u001b[0;36manalyze\u001b[1;34m(problem, X, Y, num_resamples, conf_level, print_to_console, num_levels, seed)\u001b[0m\n\u001b[0;32m    131\u001b[0m num_trajectories \u001b[39m=\u001b[39m \u001b[39mint\u001b[39m(Y\u001b[39m.\u001b[39msize \u001b[39m/\u001b[39m (number_of_groups \u001b[39m+\u001b[39m \u001b[39m1\u001b[39m))\n\u001b[0;32m    132\u001b[0m trajectory_size \u001b[39m=\u001b[39m \u001b[39mint\u001b[39m(Y\u001b[39m.\u001b[39msize \u001b[39m/\u001b[39m num_trajectories)\n\u001b[1;32m--> 134\u001b[0m elementary_effects \u001b[39m=\u001b[39m _compute_elementary_effects(X, Y, trajectory_size, delta)\n\u001b[0;32m    136\u001b[0m Si \u001b[39m=\u001b[39m _compute_statistical_outputs(\n\u001b[0;32m    137\u001b[0m     elementary_effects,\n\u001b[0;32m    138\u001b[0m     num_vars,\n\u001b[1;32m   (...)\u001b[0m\n\u001b[0;32m    142\u001b[0m     unique_group_names,\n\u001b[0;32m    143\u001b[0m )\n\u001b[0;32m    145\u001b[0m \u001b[39mif\u001b[39;00m print_to_console:\n",
      "File \u001b[1;32mc:\\Users\\teddy\\AppData\\Local\\Programs\\Python\\Python311\\Lib\\site-packages\\SALib\\analyze\\morris.py:334\u001b[0m, in \u001b[0;36m_compute_elementary_effects\u001b[1;34m(model_inputs, model_outputs, trajectory_size, delta)\u001b[0m\n\u001b[0;32m    312\u001b[0m \u001b[39m\"\"\"Computes the Morris elementary effects.\u001b[39;00m\n\u001b[0;32m    313\u001b[0m \n\u001b[0;32m    314\u001b[0m \u001b[39mParameters\u001b[39;00m\n\u001b[1;32m   (...)\u001b[0m\n\u001b[0;32m    330\u001b[0m \u001b[39m    Elementary effects for each parameter\u001b[39;00m\n\u001b[0;32m    331\u001b[0m \u001b[39m\"\"\"\u001b[39;00m\n\u001b[0;32m    332\u001b[0m num_trajectories \u001b[39m=\u001b[39m _calculate_number_trajectories(model_inputs, trajectory_size)\n\u001b[1;32m--> 334\u001b[0m output_matrix \u001b[39m=\u001b[39m _reshape_model_outputs(\n\u001b[0;32m    335\u001b[0m     model_outputs, num_trajectories, trajectory_size\n\u001b[0;32m    336\u001b[0m )\n\u001b[0;32m    337\u001b[0m input_matrix \u001b[39m=\u001b[39m _reshape_model_inputs(\n\u001b[0;32m    338\u001b[0m     model_inputs, num_trajectories, trajectory_size\n\u001b[0;32m    339\u001b[0m )\n\u001b[0;32m    341\u001b[0m delta_variables \u001b[39m=\u001b[39m _calculate_delta_input_variables(input_matrix)\n",
      "File \u001b[1;32mc:\\Users\\teddy\\AppData\\Local\\Programs\\Python\\Python311\\Lib\\site-packages\\SALib\\analyze\\morris.py:465\u001b[0m, in \u001b[0;36m_reshape_model_outputs\u001b[1;34m(model_outputs, num_trajectories, trajectory_size)\u001b[0m\n\u001b[0;32m    446\u001b[0m \u001b[39mdef\u001b[39;00m \u001b[39m_reshape_model_outputs\u001b[39m(\n\u001b[0;32m    447\u001b[0m     model_outputs: np\u001b[39m.\u001b[39mndarray, num_trajectories: \u001b[39mint\u001b[39m, trajectory_size: \u001b[39mint\u001b[39m\n\u001b[0;32m    448\u001b[0m ):\n\u001b[0;32m    449\u001b[0m     \u001b[39m\"\"\"Reshapes the model outputs' matrix.\u001b[39;00m\n\u001b[0;32m    450\u001b[0m \n\u001b[0;32m    451\u001b[0m \u001b[39m    Parameters\u001b[39;00m\n\u001b[1;32m   (...)\u001b[0m\n\u001b[0;32m    463\u001b[0m \u001b[39m        Reshaped output matrix.\u001b[39;00m\n\u001b[0;32m    464\u001b[0m \u001b[39m    \"\"\"\u001b[39;00m\n\u001b[1;32m--> 465\u001b[0m     output_matrix \u001b[39m=\u001b[39m model_outputs\u001b[39m.\u001b[39;49mreshape(num_trajectories, trajectory_size)\n\u001b[0;32m    466\u001b[0m     \u001b[39mreturn\u001b[39;00m output_matrix\n",
      "\u001b[1;31mValueError\u001b[0m: cannot reshape array of size 12000 into shape (1000,4)"
     ]
    }
   ],
   "source": [
    "Si = ma.analyze(morris_problem,\n",
    "               sample,\n",
    "               output,\n",
    "               print_to_console=False,\n",
    "               num_levels=num_levels)\n",
    "print(\"{:20s} {:>7s} {:>7s} {:>7s}\".format(\"Name\", \"mu\", \"mu_star\", \"sigma\"))\n",
    "for name, s1, st, mean in zip(morris_problem['names'], Si['mu'], Si['mu_star'], Si['sigma']):\n",
    "    print(\"{:20s} {:=7.2f} {:=7.2f} {:=7.2f}\".format(name, s1, st, mean))\n",
    "    \n",
    "fig, (ax1, ax2) = plt.subplots(1,2)\n",
    "mp.horizontal_bar_plot(ax1, Si) #  param_dict={}\n",
    "mp.covariance_plot(ax2, Si, {})"
   ]
  }
 ],
 "metadata": {
  "kernelspec": {
   "display_name": "Python 3.11.0 64-bit",
   "language": "python",
   "name": "python3"
  },
  "language_info": {
   "codemirror_mode": {
    "name": "ipython",
    "version": 3
   },
   "file_extension": ".py",
   "mimetype": "text/x-python",
   "name": "python",
   "nbconvert_exporter": "python",
   "pygments_lexer": "ipython3",
   "version": "3.11.0"
  },
  "orig_nbformat": 4,
  "vscode": {
   "interpreter": {
    "hash": "8b69a87f70c9690f53221bb63dbd7c1a68a760986f16788ce68ce0aa97a0cac5"
   }
  }
 },
 "nbformat": 4,
 "nbformat_minor": 2
}
